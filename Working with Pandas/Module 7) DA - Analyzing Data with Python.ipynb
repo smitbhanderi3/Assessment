{
 "cells": [
  {
   "cell_type": "markdown",
   "id": "3bc323b6",
   "metadata": {},
   "source": [
    "# Numpy"
   ]
  },
  {
   "cell_type": "markdown",
   "id": "e54a67aa",
   "metadata": {},
   "source": [
    "# Q.1 Convert a 1D array to a 2D array with 2 rows"
   ]
  },
  {
   "cell_type": "code",
   "execution_count": 2,
   "id": "1cd8fa9a",
   "metadata": {},
   "outputs": [
    {
     "name": "stdout",
     "output_type": "stream",
     "text": [
      "[[1 2 3]\n",
      " [4 5 6]]\n"
     ]
    }
   ],
   "source": [
    "import numpy as np\n",
    "array= np.array([1, 2, 3, 4, 5, 6])\n",
    "\n",
    "# Reshape the array to have 2 rows (-1 means automatically determine the number of columns)\n",
    "D2_array = array.reshape(2, -1)\n",
    "\n",
    "# Print the resulting 2D array\n",
    "print(D2_array)"
   ]
  },
  {
   "cell_type": "markdown",
   "id": "12c47847",
   "metadata": {},
   "source": [
    "## Q.2 Get the common items between a and b \n",
    "Input: <br>\n",
    "a = np.array([1,2,3,2,3,4,3,4,5,6]) <br>\n",
    "b = np.array([7,2,10,2,7,4,9,4,9,8])<br>\n",
    "Desired Output: <br>\n",
    "array([2, 4]) "
   ]
  },
  {
   "cell_type": "code",
   "execution_count": 3,
   "id": "6ca17557",
   "metadata": {},
   "outputs": [
    {
     "name": "stdout",
     "output_type": "stream",
     "text": [
      "[2 4]\n"
     ]
    }
   ],
   "source": [
    "import numpy as np\n",
    "\n",
    "a = np.array([1, 2, 3, 2, 3, 4, 3, 4, 5, 6])\n",
    "b = np.array([7, 2, 10, 2, 7, 4, 9, 4, 9, 8])\n",
    "\n",
    "result = np.intersect1d(a, b)\n",
    "\n",
    "print(result)"
   ]
  },
  {
   "cell_type": "markdown",
   "id": "f7c35581",
   "metadata": {},
   "source": [
    "## Q.3 Get all items between 5 and 10 from a. \n",
    "Input: <br>\n",
    "a = np.array([2, 6, 1, 9, 10, 3, 27]) <br>\n",
    "Desired Output: <br>\n",
    "(array([6, 9, 10]),) "
   ]
  },
  {
   "cell_type": "code",
   "execution_count": 17,
   "id": "b3b614b9",
   "metadata": {},
   "outputs": [
    {
     "name": "stdout",
     "output_type": "stream",
     "text": [
      "(array([ 6,  9, 10]),)\n"
     ]
    }
   ],
   "source": [
    "import numpy as np\n",
    "\n",
    "a = np.array([2, 6, 1, 9, 10, 3, 27])\n",
    "\n",
    "# Define the condition (in this case, elements greater than 5)\n",
    "condition = (a >= 5) & (a<=10)\n",
    "# condition = a > 10\n",
    "# Use the condition to filter the elements of the array\n",
    "filtered_array = a[condition]\n",
    "\n",
    "# Convert the filtered array to a tuple\n",
    "output_tuple = (filtered_array,)\n",
    "\n",
    "print(output_tuple)\n"
   ]
  },
  {
   "cell_type": "markdown",
   "id": "cc96f064",
   "metadata": {},
   "source": [
    "## Q.4 Limit the number of items printed in python NumPy array a to a maximum of 6 elements. \n",
    "Input: <br>\n",
    "array([ 0, 1, 2, 3, 4, 5, 6, 7, 8, 9, 10, 11, 12, 13, 14]) <br>\n",
    "Desired Output: <br>\n",
    "array([ 0, 1, 2, ..., 12, 13, 14])<br>"
   ]
  },
  {
   "cell_type": "code",
   "execution_count": 18,
   "id": "50e88c44",
   "metadata": {},
   "outputs": [
    {
     "name": "stdout",
     "output_type": "stream",
     "text": [
      "[ 0  1  2 ... 12 13 14]\n"
     ]
    }
   ],
   "source": [
    "import numpy as np\n",
    "\n",
    "a = np.array([0, 1, 2, 3, 4, 5, 6, 7, 8, 9, 10, 11, 12, 13, 14])\n",
    "\n",
    "# Set the threshold to control the maximum number of elements displayed\n",
    "np.set_printoptions(threshold=6)\n",
    "\n",
    "print(a)"
   ]
  },
  {
   "cell_type": "markdown",
   "id": "067bddf4",
   "metadata": {},
   "source": [
    "# Pandas"
   ]
  },
  {
   "cell_type": "markdown",
   "id": "b2b69602",
   "metadata": {},
   "source": [
    "## 1. Compute the minimum, 25th percentile, median, 75th, and maximum of ser. "
   ]
  },
  {
   "cell_type": "code",
   "execution_count": 22,
   "id": "ae24c691",
   "metadata": {},
   "outputs": [
    {
     "name": "stdout",
     "output_type": "stream",
     "text": [
      "Minimum: 1\n",
      "25th Percentile: 3.25\n",
      "Median: 5.5\n",
      "75th Percentile: 7.75\n",
      "Maximum: 10\n"
     ]
    }
   ],
   "source": [
    "import pandas as pd\n",
    "\n",
    "# Assuming you have a Pandas Series called 'ser'\n",
    "ser = pd.Series([1, 2, 3, 4, 5, 6, 7, 8, 9, 10])\n",
    "\n",
    "# Compute the statistics\n",
    "minimum = ser.min()\n",
    "percentile_25 = ser.quantile(0.25)\n",
    "median = ser.median()\n",
    "percentile_75 = ser.quantile(0.75)\n",
    "maximum = ser.max()\n",
    "\n",
    "# Print the results\n",
    "print(\"Minimum:\", minimum)\n",
    "print(\"25th Percentile:\", percentile_25)\n",
    "print(\"Median:\", median)\n",
    "print(\"75th Percentile:\", percentile_75)\n",
    "print(\"Maximum:\", maximum)\n"
   ]
  },
  {
   "cell_type": "markdown",
   "id": "c42bda56",
   "metadata": {},
   "source": [
    "## 2. Creating A Pandas Data Frame and Using Sample Data Sets \n"
   ]
  },
  {
   "cell_type": "code",
   "execution_count": 24,
   "id": "284233e1",
   "metadata": {},
   "outputs": [
    {
     "data": {
      "text/html": [
       "<div>\n",
       "<style scoped>\n",
       "    .dataframe tbody tr th:only-of-type {\n",
       "        vertical-align: middle;\n",
       "    }\n",
       "\n",
       "    .dataframe tbody tr th {\n",
       "        vertical-align: top;\n",
       "    }\n",
       "\n",
       "    .dataframe thead th {\n",
       "        text-align: right;\n",
       "    }\n",
       "</style>\n",
       "<table border=\"1\" class=\"dataframe\">\n",
       "  <thead>\n",
       "    <tr style=\"text-align: right;\">\n",
       "      <th></th>\n",
       "      <th>Name</th>\n",
       "      <th>Age</th>\n",
       "      <th>City</th>\n",
       "    </tr>\n",
       "  </thead>\n",
       "  <tbody>\n",
       "    <tr>\n",
       "      <th>0</th>\n",
       "      <td>Alice</td>\n",
       "      <td>25</td>\n",
       "      <td>New York</td>\n",
       "    </tr>\n",
       "    <tr>\n",
       "      <th>1</th>\n",
       "      <td>Bob</td>\n",
       "      <td>30</td>\n",
       "      <td>San Francisco</td>\n",
       "    </tr>\n",
       "    <tr>\n",
       "      <th>2</th>\n",
       "      <td>Charlie</td>\n",
       "      <td>35</td>\n",
       "      <td>Los Angeles</td>\n",
       "    </tr>\n",
       "    <tr>\n",
       "      <th>3</th>\n",
       "      <td>David</td>\n",
       "      <td>28</td>\n",
       "      <td>Chicago</td>\n",
       "    </tr>\n",
       "  </tbody>\n",
       "</table>\n",
       "</div>"
      ],
      "text/plain": [
       "      Name  Age           City\n",
       "0    Alice   25       New York\n",
       "1      Bob   30  San Francisco\n",
       "2  Charlie   35    Los Angeles\n",
       "3    David   28        Chicago"
      ]
     },
     "execution_count": 24,
     "metadata": {},
     "output_type": "execute_result"
    }
   ],
   "source": [
    "data = {\n",
    "    'Name': ['Alice', 'Bob', 'Charlie', 'David'],\n",
    "    'Age': [25, 30, 35, 28],\n",
    "    'City': ['New York', 'San Francisco', 'Los Angeles', 'Chicago']\n",
    "}\n",
    "\n",
    "df = pd.DataFrame(data)\n",
    "df"
   ]
  },
  {
   "cell_type": "markdown",
   "id": "c7a94220",
   "metadata": {},
   "source": [
    "## 3. Using NumPy, create a Pandas Data Frame with five rows and three columns. "
   ]
  },
  {
   "cell_type": "code",
   "execution_count": 25,
   "id": "2059c353",
   "metadata": {},
   "outputs": [],
   "source": [
    "data = np.random.rand(5, 3)"
   ]
  },
  {
   "cell_type": "code",
   "execution_count": 27,
   "id": "055be4c0",
   "metadata": {},
   "outputs": [
    {
     "data": {
      "text/html": [
       "<div>\n",
       "<style scoped>\n",
       "    .dataframe tbody tr th:only-of-type {\n",
       "        vertical-align: middle;\n",
       "    }\n",
       "\n",
       "    .dataframe tbody tr th {\n",
       "        vertical-align: top;\n",
       "    }\n",
       "\n",
       "    .dataframe thead th {\n",
       "        text-align: right;\n",
       "    }\n",
       "</style>\n",
       "<table border=\"1\" class=\"dataframe\">\n",
       "  <thead>\n",
       "    <tr style=\"text-align: right;\">\n",
       "      <th></th>\n",
       "      <th>Column1</th>\n",
       "      <th>Column2</th>\n",
       "      <th>Column3</th>\n",
       "    </tr>\n",
       "  </thead>\n",
       "  <tbody>\n",
       "    <tr>\n",
       "      <th>0</th>\n",
       "      <td>0.632993</td>\n",
       "      <td>0.319626</td>\n",
       "      <td>0.088735</td>\n",
       "    </tr>\n",
       "    <tr>\n",
       "      <th>1</th>\n",
       "      <td>0.530298</td>\n",
       "      <td>0.363577</td>\n",
       "      <td>0.666149</td>\n",
       "    </tr>\n",
       "    <tr>\n",
       "      <th>2</th>\n",
       "      <td>0.808897</td>\n",
       "      <td>0.368870</td>\n",
       "      <td>0.475359</td>\n",
       "    </tr>\n",
       "    <tr>\n",
       "      <th>3</th>\n",
       "      <td>0.730847</td>\n",
       "      <td>0.822393</td>\n",
       "      <td>0.390106</td>\n",
       "    </tr>\n",
       "    <tr>\n",
       "      <th>4</th>\n",
       "      <td>0.230713</td>\n",
       "      <td>0.042528</td>\n",
       "      <td>0.539659</td>\n",
       "    </tr>\n",
       "  </tbody>\n",
       "</table>\n",
       "</div>"
      ],
      "text/plain": [
       "    Column1   Column2   Column3\n",
       "0  0.632993  0.319626  0.088735\n",
       "1  0.530298  0.363577  0.666149\n",
       "2  0.808897  0.368870  0.475359\n",
       "3  0.730847  0.822393  0.390106\n",
       "4  0.230713  0.042528  0.539659"
      ]
     },
     "execution_count": 27,
     "metadata": {},
     "output_type": "execute_result"
    }
   ],
   "source": [
    "df = pd.DataFrame(data, columns=['Column1', 'Column2', 'Column3'])\n",
    "df"
   ]
  },
  {
   "cell_type": "markdown",
   "id": "c2d60b6d",
   "metadata": {},
   "source": [
    "## 4. For a Pandas Data Frame created from a NumPy array, what is the default behavior for the labels for the columns? For the rows?"
   ]
  },
  {
   "cell_type": "code",
   "execution_count": 29,
   "id": "9664f91e",
   "metadata": {},
   "outputs": [
    {
     "data": {
      "text/html": [
       "<div>\n",
       "<style scoped>\n",
       "    .dataframe tbody tr th:only-of-type {\n",
       "        vertical-align: middle;\n",
       "    }\n",
       "\n",
       "    .dataframe tbody tr th {\n",
       "        vertical-align: top;\n",
       "    }\n",
       "\n",
       "    .dataframe thead th {\n",
       "        text-align: right;\n",
       "    }\n",
       "</style>\n",
       "<table border=\"1\" class=\"dataframe\">\n",
       "  <thead>\n",
       "    <tr style=\"text-align: right;\">\n",
       "      <th></th>\n",
       "      <th>0</th>\n",
       "      <th>1</th>\n",
       "      <th>2</th>\n",
       "    </tr>\n",
       "  </thead>\n",
       "  <tbody>\n",
       "    <tr>\n",
       "      <th>0</th>\n",
       "      <td>1</td>\n",
       "      <td>2</td>\n",
       "      <td>3</td>\n",
       "    </tr>\n",
       "    <tr>\n",
       "      <th>1</th>\n",
       "      <td>4</td>\n",
       "      <td>5</td>\n",
       "      <td>6</td>\n",
       "    </tr>\n",
       "    <tr>\n",
       "      <th>2</th>\n",
       "      <td>7</td>\n",
       "      <td>8</td>\n",
       "      <td>9</td>\n",
       "    </tr>\n",
       "  </tbody>\n",
       "</table>\n",
       "</div>"
      ],
      "text/plain": [
       "   0  1  2\n",
       "0  1  2  3\n",
       "1  4  5  6\n",
       "2  7  8  9"
      ]
     },
     "execution_count": 29,
     "metadata": {},
     "output_type": "execute_result"
    }
   ],
   "source": [
    "data = np.array([[1, 2, 3], [4, 5, 6], [7, 8, 9]])\n",
    "df = pd.DataFrame(data)\n",
    "df"
   ]
  },
  {
   "cell_type": "markdown",
   "id": "3a120353",
   "metadata": {},
   "source": [
    "## 5. take csv file contains at least 10,000 rows and 12 columns which numerical and text values according to that continue following steps. "
   ]
  },
  {
   "cell_type": "code",
   "execution_count": 36,
   "id": "ec3e3280",
   "metadata": {},
   "outputs": [
    {
     "data": {
      "text/html": [
       "<div>\n",
       "<style scoped>\n",
       "    .dataframe tbody tr th:only-of-type {\n",
       "        vertical-align: middle;\n",
       "    }\n",
       "\n",
       "    .dataframe tbody tr th {\n",
       "        vertical-align: top;\n",
       "    }\n",
       "\n",
       "    .dataframe thead th {\n",
       "        text-align: right;\n",
       "    }\n",
       "</style>\n",
       "<table border=\"1\" class=\"dataframe\">\n",
       "  <thead>\n",
       "    <tr style=\"text-align: right;\">\n",
       "      <th></th>\n",
       "      <th>100_count</th>\n",
       "      <th>Calculation4</th>\n",
       "      <th>Bowling_Average</th>\n",
       "      <th>Economy</th>\n",
       "      <th>balls per boundary</th>\n",
       "      <th>Boundaries_Count</th>\n",
       "      <th>SR</th>\n",
       "      <th>50</th>\n",
       "      <th>Calculation3</th>\n",
       "      <th>Number of Records</th>\n",
       "      <th>...</th>\n",
       "      <th>Team2 Id</th>\n",
       "      <th>Toss Decision</th>\n",
       "      <th>Toss Winner</th>\n",
       "      <th>Umpire1</th>\n",
       "      <th>Umpire2</th>\n",
       "      <th>Venue</th>\n",
       "      <th>Venue Id</th>\n",
       "      <th>Win By Runs</th>\n",
       "      <th>Win By Wickets</th>\n",
       "      <th>Winner</th>\n",
       "    </tr>\n",
       "  </thead>\n",
       "  <tbody>\n",
       "    <tr>\n",
       "      <th>0</th>\n",
       "      <td>0</td>\n",
       "      <td>NaN</td>\n",
       "      <td>NaN</td>\n",
       "      <td>36</td>\n",
       "      <td>1.0</td>\n",
       "      <td>1</td>\n",
       "      <td>600</td>\n",
       "      <td>0</td>\n",
       "      <td>NaN</td>\n",
       "      <td>1</td>\n",
       "      <td>...</td>\n",
       "      <td>DD</td>\n",
       "      <td>field</td>\n",
       "      <td>DD</td>\n",
       "      <td>BF Bowden</td>\n",
       "      <td>RE Koertzen</td>\n",
       "      <td>Wankhede Stadium, Mumbai, Maharashtra</td>\n",
       "      <td>1</td>\n",
       "      <td>105</td>\n",
       "      <td>0</td>\n",
       "      <td>RR</td>\n",
       "    </tr>\n",
       "    <tr>\n",
       "      <th>1</th>\n",
       "      <td>0</td>\n",
       "      <td>NaN</td>\n",
       "      <td>NaN</td>\n",
       "      <td>6</td>\n",
       "      <td>NaN</td>\n",
       "      <td>0</td>\n",
       "      <td>100</td>\n",
       "      <td>0</td>\n",
       "      <td>NaN</td>\n",
       "      <td>1</td>\n",
       "      <td>...</td>\n",
       "      <td>DD</td>\n",
       "      <td>field</td>\n",
       "      <td>DD</td>\n",
       "      <td>BF Bowden</td>\n",
       "      <td>RE Koertzen</td>\n",
       "      <td>Wankhede Stadium, Mumbai, Maharashtra</td>\n",
       "      <td>1</td>\n",
       "      <td>105</td>\n",
       "      <td>0</td>\n",
       "      <td>RR</td>\n",
       "    </tr>\n",
       "    <tr>\n",
       "      <th>2</th>\n",
       "      <td>0</td>\n",
       "      <td>NaN</td>\n",
       "      <td>NaN</td>\n",
       "      <td>6</td>\n",
       "      <td>NaN</td>\n",
       "      <td>0</td>\n",
       "      <td>100</td>\n",
       "      <td>0</td>\n",
       "      <td>NaN</td>\n",
       "      <td>1</td>\n",
       "      <td>...</td>\n",
       "      <td>DD</td>\n",
       "      <td>field</td>\n",
       "      <td>DD</td>\n",
       "      <td>BF Bowden</td>\n",
       "      <td>RE Koertzen</td>\n",
       "      <td>Wankhede Stadium, Mumbai, Maharashtra</td>\n",
       "      <td>1</td>\n",
       "      <td>105</td>\n",
       "      <td>0</td>\n",
       "      <td>RR</td>\n",
       "    </tr>\n",
       "    <tr>\n",
       "      <th>3</th>\n",
       "      <td>0</td>\n",
       "      <td>NaN</td>\n",
       "      <td>0.0</td>\n",
       "      <td>0</td>\n",
       "      <td>NaN</td>\n",
       "      <td>0</td>\n",
       "      <td>0</td>\n",
       "      <td>0</td>\n",
       "      <td>NaN</td>\n",
       "      <td>1</td>\n",
       "      <td>...</td>\n",
       "      <td>DD</td>\n",
       "      <td>field</td>\n",
       "      <td>DD</td>\n",
       "      <td>BF Bowden</td>\n",
       "      <td>RE Koertzen</td>\n",
       "      <td>Wankhede Stadium, Mumbai, Maharashtra</td>\n",
       "      <td>1</td>\n",
       "      <td>105</td>\n",
       "      <td>0</td>\n",
       "      <td>RR</td>\n",
       "    </tr>\n",
       "    <tr>\n",
       "      <th>4</th>\n",
       "      <td>0</td>\n",
       "      <td>NaN</td>\n",
       "      <td>NaN</td>\n",
       "      <td>6</td>\n",
       "      <td>NaN</td>\n",
       "      <td>0</td>\n",
       "      <td>100</td>\n",
       "      <td>0</td>\n",
       "      <td>NaN</td>\n",
       "      <td>1</td>\n",
       "      <td>...</td>\n",
       "      <td>DD</td>\n",
       "      <td>field</td>\n",
       "      <td>DD</td>\n",
       "      <td>BF Bowden</td>\n",
       "      <td>RE Koertzen</td>\n",
       "      <td>Wankhede Stadium, Mumbai, Maharashtra</td>\n",
       "      <td>1</td>\n",
       "      <td>105</td>\n",
       "      <td>0</td>\n",
       "      <td>RR</td>\n",
       "    </tr>\n",
       "  </tbody>\n",
       "</table>\n",
       "<p>5 rows × 47 columns</p>\n",
       "</div>"
      ],
      "text/plain": [
       "   100_count  Calculation4  Bowling_Average  Economy  balls per boundary  \\\n",
       "0          0           NaN              NaN       36                 1.0   \n",
       "1          0           NaN              NaN        6                 NaN   \n",
       "2          0           NaN              NaN        6                 NaN   \n",
       "3          0           NaN              0.0        0                 NaN   \n",
       "4          0           NaN              NaN        6                 NaN   \n",
       "\n",
       "   Boundaries_Count   SR  50  Calculation3  Number of Records  ...  Team2 Id  \\\n",
       "0                 1  600   0           NaN                  1  ...        DD   \n",
       "1                 0  100   0           NaN                  1  ...        DD   \n",
       "2                 0  100   0           NaN                  1  ...        DD   \n",
       "3                 0    0   0           NaN                  1  ...        DD   \n",
       "4                 0  100   0           NaN                  1  ...        DD   \n",
       "\n",
       "  Toss Decision  Toss Winner    Umpire1      Umpire2  \\\n",
       "0         field           DD  BF Bowden  RE Koertzen   \n",
       "1         field           DD  BF Bowden  RE Koertzen   \n",
       "2         field           DD  BF Bowden  RE Koertzen   \n",
       "3         field           DD  BF Bowden  RE Koertzen   \n",
       "4         field           DD  BF Bowden  RE Koertzen   \n",
       "\n",
       "                                   Venue  Venue Id Win By Runs Win By Wickets  \\\n",
       "0  Wankhede Stadium, Mumbai, Maharashtra         1         105              0   \n",
       "1  Wankhede Stadium, Mumbai, Maharashtra         1         105              0   \n",
       "2  Wankhede Stadium, Mumbai, Maharashtra         1         105              0   \n",
       "3  Wankhede Stadium, Mumbai, Maharashtra         1         105              0   \n",
       "4  Wankhede Stadium, Mumbai, Maharashtra         1         105              0   \n",
       "\n",
       "  Winner  \n",
       "0     RR  \n",
       "1     RR  \n",
       "2     RR  \n",
       "3     RR  \n",
       "4     RR  \n",
       "\n",
       "[5 rows x 47 columns]"
      ]
     },
     "execution_count": 36,
     "metadata": {},
     "output_type": "execute_result"
    }
   ],
   "source": [
    "df = pd.read_csv(\"data/ball_by_ball_data.csv\")\n",
    "df.head(5)"
   ]
  },
  {
   "cell_type": "markdown",
   "id": "e6a45d60",
   "metadata": {},
   "source": [
    "## 6. Write the code to show the number of rows and columns in data frame.  "
   ]
  },
  {
   "cell_type": "code",
   "execution_count": 38,
   "id": "58ffb71e",
   "metadata": {},
   "outputs": [
    {
     "data": {
      "text/plain": [
       "(150460, 47)"
      ]
     },
     "execution_count": 38,
     "metadata": {},
     "output_type": "execute_result"
    }
   ],
   "source": [
    "df.shape"
   ]
  },
  {
   "cell_type": "markdown",
   "id": "aa9e4156",
   "metadata": {},
   "source": [
    "## 7. How might you show the first few rows of data frame? "
   ]
  },
  {
   "cell_type": "code",
   "execution_count": 40,
   "id": "1ac6b93b",
   "metadata": {},
   "outputs": [
    {
     "data": {
      "text/html": [
       "<div>\n",
       "<style scoped>\n",
       "    .dataframe tbody tr th:only-of-type {\n",
       "        vertical-align: middle;\n",
       "    }\n",
       "\n",
       "    .dataframe tbody tr th {\n",
       "        vertical-align: top;\n",
       "    }\n",
       "\n",
       "    .dataframe thead th {\n",
       "        text-align: right;\n",
       "    }\n",
       "</style>\n",
       "<table border=\"1\" class=\"dataframe\">\n",
       "  <thead>\n",
       "    <tr style=\"text-align: right;\">\n",
       "      <th></th>\n",
       "      <th>100_count</th>\n",
       "      <th>Calculation4</th>\n",
       "      <th>Bowling_Average</th>\n",
       "      <th>Economy</th>\n",
       "      <th>balls per boundary</th>\n",
       "      <th>Boundaries_Count</th>\n",
       "      <th>SR</th>\n",
       "      <th>50</th>\n",
       "      <th>Calculation3</th>\n",
       "      <th>Number of Records</th>\n",
       "      <th>...</th>\n",
       "      <th>Team2 Id</th>\n",
       "      <th>Toss Decision</th>\n",
       "      <th>Toss Winner</th>\n",
       "      <th>Umpire1</th>\n",
       "      <th>Umpire2</th>\n",
       "      <th>Venue</th>\n",
       "      <th>Venue Id</th>\n",
       "      <th>Win By Runs</th>\n",
       "      <th>Win By Wickets</th>\n",
       "      <th>Winner</th>\n",
       "    </tr>\n",
       "  </thead>\n",
       "  <tbody>\n",
       "    <tr>\n",
       "      <th>0</th>\n",
       "      <td>0</td>\n",
       "      <td>NaN</td>\n",
       "      <td>NaN</td>\n",
       "      <td>36</td>\n",
       "      <td>1.0</td>\n",
       "      <td>1</td>\n",
       "      <td>600</td>\n",
       "      <td>0</td>\n",
       "      <td>NaN</td>\n",
       "      <td>1</td>\n",
       "      <td>...</td>\n",
       "      <td>DD</td>\n",
       "      <td>field</td>\n",
       "      <td>DD</td>\n",
       "      <td>BF Bowden</td>\n",
       "      <td>RE Koertzen</td>\n",
       "      <td>Wankhede Stadium, Mumbai, Maharashtra</td>\n",
       "      <td>1</td>\n",
       "      <td>105</td>\n",
       "      <td>0</td>\n",
       "      <td>RR</td>\n",
       "    </tr>\n",
       "    <tr>\n",
       "      <th>1</th>\n",
       "      <td>0</td>\n",
       "      <td>NaN</td>\n",
       "      <td>NaN</td>\n",
       "      <td>6</td>\n",
       "      <td>NaN</td>\n",
       "      <td>0</td>\n",
       "      <td>100</td>\n",
       "      <td>0</td>\n",
       "      <td>NaN</td>\n",
       "      <td>1</td>\n",
       "      <td>...</td>\n",
       "      <td>DD</td>\n",
       "      <td>field</td>\n",
       "      <td>DD</td>\n",
       "      <td>BF Bowden</td>\n",
       "      <td>RE Koertzen</td>\n",
       "      <td>Wankhede Stadium, Mumbai, Maharashtra</td>\n",
       "      <td>1</td>\n",
       "      <td>105</td>\n",
       "      <td>0</td>\n",
       "      <td>RR</td>\n",
       "    </tr>\n",
       "    <tr>\n",
       "      <th>2</th>\n",
       "      <td>0</td>\n",
       "      <td>NaN</td>\n",
       "      <td>NaN</td>\n",
       "      <td>6</td>\n",
       "      <td>NaN</td>\n",
       "      <td>0</td>\n",
       "      <td>100</td>\n",
       "      <td>0</td>\n",
       "      <td>NaN</td>\n",
       "      <td>1</td>\n",
       "      <td>...</td>\n",
       "      <td>DD</td>\n",
       "      <td>field</td>\n",
       "      <td>DD</td>\n",
       "      <td>BF Bowden</td>\n",
       "      <td>RE Koertzen</td>\n",
       "      <td>Wankhede Stadium, Mumbai, Maharashtra</td>\n",
       "      <td>1</td>\n",
       "      <td>105</td>\n",
       "      <td>0</td>\n",
       "      <td>RR</td>\n",
       "    </tr>\n",
       "    <tr>\n",
       "      <th>3</th>\n",
       "      <td>0</td>\n",
       "      <td>NaN</td>\n",
       "      <td>0.0</td>\n",
       "      <td>0</td>\n",
       "      <td>NaN</td>\n",
       "      <td>0</td>\n",
       "      <td>0</td>\n",
       "      <td>0</td>\n",
       "      <td>NaN</td>\n",
       "      <td>1</td>\n",
       "      <td>...</td>\n",
       "      <td>DD</td>\n",
       "      <td>field</td>\n",
       "      <td>DD</td>\n",
       "      <td>BF Bowden</td>\n",
       "      <td>RE Koertzen</td>\n",
       "      <td>Wankhede Stadium, Mumbai, Maharashtra</td>\n",
       "      <td>1</td>\n",
       "      <td>105</td>\n",
       "      <td>0</td>\n",
       "      <td>RR</td>\n",
       "    </tr>\n",
       "    <tr>\n",
       "      <th>4</th>\n",
       "      <td>0</td>\n",
       "      <td>NaN</td>\n",
       "      <td>NaN</td>\n",
       "      <td>6</td>\n",
       "      <td>NaN</td>\n",
       "      <td>0</td>\n",
       "      <td>100</td>\n",
       "      <td>0</td>\n",
       "      <td>NaN</td>\n",
       "      <td>1</td>\n",
       "      <td>...</td>\n",
       "      <td>DD</td>\n",
       "      <td>field</td>\n",
       "      <td>DD</td>\n",
       "      <td>BF Bowden</td>\n",
       "      <td>RE Koertzen</td>\n",
       "      <td>Wankhede Stadium, Mumbai, Maharashtra</td>\n",
       "      <td>1</td>\n",
       "      <td>105</td>\n",
       "      <td>0</td>\n",
       "      <td>RR</td>\n",
       "    </tr>\n",
       "  </tbody>\n",
       "</table>\n",
       "<p>5 rows × 47 columns</p>\n",
       "</div>"
      ],
      "text/plain": [
       "   100_count  Calculation4  Bowling_Average  Economy  balls per boundary  \\\n",
       "0          0           NaN              NaN       36                 1.0   \n",
       "1          0           NaN              NaN        6                 NaN   \n",
       "2          0           NaN              NaN        6                 NaN   \n",
       "3          0           NaN              0.0        0                 NaN   \n",
       "4          0           NaN              NaN        6                 NaN   \n",
       "\n",
       "   Boundaries_Count   SR  50  Calculation3  Number of Records  ...  Team2 Id  \\\n",
       "0                 1  600   0           NaN                  1  ...        DD   \n",
       "1                 0  100   0           NaN                  1  ...        DD   \n",
       "2                 0  100   0           NaN                  1  ...        DD   \n",
       "3                 0    0   0           NaN                  1  ...        DD   \n",
       "4                 0  100   0           NaN                  1  ...        DD   \n",
       "\n",
       "  Toss Decision  Toss Winner    Umpire1      Umpire2  \\\n",
       "0         field           DD  BF Bowden  RE Koertzen   \n",
       "1         field           DD  BF Bowden  RE Koertzen   \n",
       "2         field           DD  BF Bowden  RE Koertzen   \n",
       "3         field           DD  BF Bowden  RE Koertzen   \n",
       "4         field           DD  BF Bowden  RE Koertzen   \n",
       "\n",
       "                                   Venue  Venue Id Win By Runs Win By Wickets  \\\n",
       "0  Wankhede Stadium, Mumbai, Maharashtra         1         105              0   \n",
       "1  Wankhede Stadium, Mumbai, Maharashtra         1         105              0   \n",
       "2  Wankhede Stadium, Mumbai, Maharashtra         1         105              0   \n",
       "3  Wankhede Stadium, Mumbai, Maharashtra         1         105              0   \n",
       "4  Wankhede Stadium, Mumbai, Maharashtra         1         105              0   \n",
       "\n",
       "  Winner  \n",
       "0     RR  \n",
       "1     RR  \n",
       "2     RR  \n",
       "3     RR  \n",
       "4     RR  \n",
       "\n",
       "[5 rows x 47 columns]"
      ]
     },
     "execution_count": 40,
     "metadata": {},
     "output_type": "execute_result"
    }
   ],
   "source": [
    "df.head()"
   ]
  },
  {
   "cell_type": "markdown",
   "id": "a8b6a4d3",
   "metadata": {},
   "source": [
    "## 8. If you select a single column from the diamonds Data Frame, what will be the type of the return value? \n"
   ]
  },
  {
   "cell_type": "code",
   "execution_count": 41,
   "id": "8c46e31f",
   "metadata": {},
   "outputs": [
    {
     "data": {
      "text/plain": [
       "0                 Wankhede Stadium, Mumbai, Maharashtra\n",
       "1                 Wankhede Stadium, Mumbai, Maharashtra\n",
       "2                 Wankhede Stadium, Mumbai, Maharashtra\n",
       "3                 Wankhede Stadium, Mumbai, Maharashtra\n",
       "4                 Wankhede Stadium, Mumbai, Maharashtra\n",
       "                              ...                      \n",
       "150455    Rajiv Gandhi International Stadium, Hyderabad\n",
       "150456    Rajiv Gandhi International Stadium, Hyderabad\n",
       "150457    Rajiv Gandhi International Stadium, Hyderabad\n",
       "150458    Rajiv Gandhi International Stadium, Hyderabad\n",
       "150459    Rajiv Gandhi International Stadium, Hyderabad\n",
       "Name: Venue, Length: 150460, dtype: object"
      ]
     },
     "execution_count": 41,
     "metadata": {},
     "output_type": "execute_result"
    }
   ],
   "source": [
    "df[\"Venue\"]"
   ]
  },
  {
   "cell_type": "markdown",
   "id": "1710062f",
   "metadata": {},
   "source": [
    "# Data Visualization"
   ]
  },
  {
   "cell_type": "markdown",
   "id": "ccb08065",
   "metadata": {},
   "source": [
    "## 9. Create a line plot using the x and y values provided below. Label the y-axis as “Y” and label the x-axis as “X”. \n",
    "x = [3, 4, 5, 6] <br>\n",
    "y = [1.5, 2, 2.5, 3] <br>"
   ]
  },
  {
   "cell_type": "code",
   "execution_count": 44,
   "id": "a1e64916",
   "metadata": {},
   "outputs": [
    {
     "data": {
      "image/png": "[encoded data removed]",
      "text/plain": [
       "<Figure size 432x288 with 1 Axes>"
      ]
     },
     "metadata": {
      "needs_background": "light"
     },
     "output_type": "display_data"
    }
   ],
   "source": [
    "import matplotlib.pyplot as plt\n",
    "\n",
    "x = [3, 4, 5, 6]\n",
    "y = [1.5, 2, 2.5, 3]\n",
    "\n",
    "plt.plot(x, y)\n",
    "\n",
    "plt.xlabel(\"X\")\n",
    "plt.ylabel(\"Y\")\n",
    "\n",
    "plt.show()"
   ]
  },
  {
   "cell_type": "markdown",
   "id": "ba1b5d77",
   "metadata": {},
   "source": [
    "# 10. Create an array of numbers between 0 and 6 with increments of 0.3 and name its “x”. \n",
    "Then on the same plot, plot x, x², x³, and x⁴. For consistency, use the following style lines \n",
    "respectively, “ro”, “bs”, “g”, and “:”. Lastly, make sure that the x-axis covers 0 to 6, while \n",
    "the y-axis spans from 0 to 125. Do not worry if you are not familiar with the style lines — \n",
    "you will recognize them as soon as you see the plot. "
   ]
  },
  {
   "cell_type": "code",
   "execution_count": 45,
   "id": "3c23afed",
   "metadata": {},
   "outputs": [
    {
     "data": {
      "image/png": "[encoded data removed]",
      "text/plain": [
       "<Figure size 432x288 with 1 Axes>"
      ]
     },
     "metadata": {
      "needs_background": "light"
     },
     "output_type": "display_data"
    }
   ],
   "source": [
    "import numpy as np\n",
    "import matplotlib.pyplot as plt\n",
    "\n",
    "x = np.arange(0, 6.3, 0.3)\n",
    "\n",
    "x_squared = x**2\n",
    "x_cubed = x**3\n",
    "x_to_the_fourth = x**4\n",
    "\n",
    "plt.plot(x, x, 'ro', label='x')\n",
    "plt.plot(x, x_squared, 'bs', label='x²')\n",
    "plt.plot(x, x_cubed, 'g', label='x³')\n",
    "plt.plot(x, x_to_the_fourth, ':', label='x⁴')\n",
    "\n",
    "plt.xlim(0, 6)\n",
    "plt.ylim(0, 125)\n",
    "\n",
    "plt.xlabel(\"X\")\n",
    "plt.ylabel(\"Y\")\n",
    "plt.legend()\n",
    "plt.show()"
   ]
  },
  {
   "cell_type": "markdown",
   "id": "d943bdf3",
   "metadata": {},
   "source": [
    "## 11. Heights and initials of a group of individuals are provided below. Create a bar plot titled “Height Comparison” to compare the heights among this group. \n",
    "height = [179, 155, 191, 152, 188, 177] <br>\n",
    "names = ['QA', 'WB', 'EC', 'RD', 'TE', 'YF'] "
   ]
  },
  {
   "cell_type": "code",
   "execution_count": 46,
   "id": "d491e875",
   "metadata": {},
   "outputs": [
    {
     "data": {
      "image/png": "[encoded data removed]",
      "text/plain": [
       "<Figure size 432x288 with 1 Axes>"
      ]
     },
     "metadata": {
      "needs_background": "light"
     },
     "output_type": "display_data"
    }
   ],
   "source": [
    "import matplotlib.pyplot as plt\n",
    "\n",
    "height = [179, 155, 191, 152, 188, 177]\n",
    "names = ['QA', 'WB', 'EC', 'RD', 'TE', 'YF']\n",
    "\n",
    "# Create a bar plot\n",
    "plt.bar(names, height)\n",
    "\n",
    "# Add a title and labels for the axes\n",
    "plt.title(\"Height Comparison\")\n",
    "plt.xlabel(\"Names\")\n",
    "plt.ylabel(\"Height (cm)\")\n",
    "\n",
    "# Show the plot\n",
    "plt.show()\n"
   ]
  },
  {
   "cell_type": "markdown",
   "id": "895f688f",
   "metadata": {},
   "source": [
    "## 12. Plot a histogram of x, where x consists of 100,000 randomly-selected points with a normal \n",
    "distribution (hint: you can use numpy.random.randn() to generate the random points). The \n",
    "histogram should have 10 bins. Look at how the histogram changes when we try 20 and 50 \n",
    "bins. \n"
   ]
  },
  {
   "cell_type": "code",
   "execution_count": 48,
   "id": "94dd4288",
   "metadata": {},
   "outputs": [
    {
     "data": {
      "text/plain": [
       "<module 'matplotlib.pyplot' from 'C:\\\\Users\\\\Smit\\\\anaconda3\\\\lib\\\\site-packages\\\\matplotlib\\\\pyplot.py'>"
      ]
     },
     "execution_count": 48,
     "metadata": {},
     "output_type": "execute_result"
    },
    {
     "data": {
      "image/png": "[encoded data removed]",
      "text/plain": [
       "<Figure size 864x288 with 2 Axes>"
      ]
     },
     "metadata": {
      "needs_background": "light"
     },
     "output_type": "display_data"
    }
   ],
   "source": [
    "# import numpy as np\n",
    "import matplotlib.pyplot as plt\n",
    "\n",
    "# Generate 100,000 random points with a normal distribution\n",
    "x = np.random.randn(100000)\n",
    "\n",
    "# Create histograms with 10, 20, and 50 bins\n",
    "plt.figure(figsize=(12, 4))\n",
    "\n",
    "# Histogram with 10 bins\n",
    "plt.subplot(131)\n",
    "plt.hist(x, bins=10, color='blue', alpha=0.7)\n",
    "plt.title(\"Histogram (10 Bins)\")\n",
    "\n",
    "# Histogram with 20 bins\n",
    "plt.subplot(132)\n",
    "plt.hist(x, bins=20, color='green', alpha=0.7)\n",
    "plt\n"
   ]
  },
  {
   "cell_type": "markdown",
   "id": "eb932769",
   "metadata": {},
   "source": [
    "# Machine learning and deep learning"
   ]
  },
  {
   "cell_type": "markdown",
   "id": "719c7c9a",
   "metadata": {},
   "source": [
    "## 13. What are the features of TensorFlow?"
   ]
  },
  {
   "cell_type": "markdown",
   "id": "9461af66",
   "metadata": {},
   "source": [
    "TensorFlow is an open-source machine learning framework developed by the Google Brain team. It offers a wide range of features and capabilities for machine learning and deep learning tasks. Some of the key features of TensorFlow include:\n",
    "\n",
    "1. **Flexibility**: TensorFlow is a highly flexible framework that allows you to build and train a wide variety of machine learning models, including deep neural networks, convolutional neural networks (CNNs), recurrent neural networks (RNNs), and more.\n",
    "\n",
    "2. **Scalability**: TensorFlow is designed to work efficiently on a range of hardware, from CPUs and GPUs to distributed computing environments, making it suitable for both small-scale and large-scale machine learning tasks.\n",
    "\n",
    "3. **High-Level APIs**: TensorFlow provides high-level APIs like Keras, which simplifies the process of building and training neural networks. Keras is integrated into TensorFlow as the official high-level API, making it easier to create models with less boilerplate code.\n",
    "\n",
    "4. **Low-Level APIs**: TensorFlow also offers low-level APIs that provide fine-grained control over model architecture and training. This flexibility is essential for researchers and engineers who need to customize their models extensively.\n",
    "\n",
    "5. **AutoGraph**: TensorFlow's AutoGraph feature allows you to write Python code that includes control flow statements (e.g., loops and conditionals), which are automatically converted into a TensorFlow computation graph for performance improvements.\n",
    "\n",
    "6. **TensorBoard**: TensorFlow includes TensorBoard, a powerful visualization tool that helps you visualize and understand your model's performance during training. It allows you to monitor metrics, view model architectures, and debug your models.\n",
    "\n",
    "7. **Ecosystem**: TensorFlow has a rich ecosystem of libraries and extensions, including TensorFlow Hub for reusable machine learning modules, TensorFlow Lite for mobile and embedded devices, TensorFlow.js for browser-based applications, and TensorFlow Serving for deploying models in production.\n",
    "\n",
    "8. **Community and Support**: TensorFlow has a large and active user community, which means there are ample resources, tutorials, and community-contributed projects available. Google also provides official documentation and support.\n",
    "\n",
    "9. **Integration with Other Libraries**: TensorFlow can be integrated with other popular machine learning libraries and frameworks, such as scikit-learn and PyTorch, allowing you to leverage the strengths of multiple tools in your projects.\n",
    "\n",
    "10. **Customization and Extensions**: TensorFlow allows you to write custom operations, loss functions, and layers, enabling you to implement specialized models and algorithms tailored to your specific needs.\n",
    "\n",
    "11. **Distributed Training**: TensorFlow supports distributed training across multiple devices and machines, making it suitable for training large models on clusters of GPUs or TPUs.\n",
    "\n",
    "12. **ONNX Compatibility**: TensorFlow has support for the Open Neural Network Exchange (ONNX) format, which enables interoperability with other deep learning frameworks.\n",
    "\n",
    "13. **Deployment Options**: TensorFlow provides various deployment options, including cloud services like Google Cloud AI Platform, Docker containers, and TensorFlow Serving for serving models in production environments.\n",
    "\n",
    "These features make TensorFlow a powerful and versatile framework for machine learning and deep learning tasks across a wide range of applications and industries."
   ]
  },
  {
   "cell_type": "markdown",
   "id": "9179b63e",
   "metadata": {},
   "source": [
    "## 14. List a few limitations of TensorFlow. "
   ]
  },
  {
   "cell_type": "markdown",
   "id": "70b43d66",
   "metadata": {},
   "source": [
    "While TensorFlow is a powerful and widely-used machine learning framework, it has some limitations and challenges that users should be aware of:\n",
    "\n",
    "1. **Steep Learning Curve**: TensorFlow can have a steep learning curve, especially for beginners in deep learning. Its flexibility and support for low-level operations may require users to have a strong understanding of machine learning concepts and TensorFlow's architecture.\n",
    "\n",
    "2. **Verbose Code**: Writing TensorFlow code, especially when working with the low-level APIs, can be verbose and require a lot of boilerplate code. This can make code harder to read and maintain.\n",
    "\n",
    "3. **Complex Model Debugging**: Debugging complex models in TensorFlow can be challenging. Errors may not always provide clear and intuitive error messages, which can make it harder to identify and fix issues.\n",
    "\n",
    "4. **Integration with Other Libraries**: While TensorFlow can be integrated with other libraries, there may be compatibility and interoperability issues when combining TensorFlow with non-TensorFlow components, such as other deep learning frameworks.\n",
    "\n",
    "5. **Large Model Sizes**: TensorFlow models can have relatively large sizes, which can be a limitation for deployment on resource-constrained devices, such as mobile devices or embedded systems.\n",
    "\n",
    "6. **Resource Intensive**: Training deep learning models with TensorFlow can be computationally intensive and may require access to powerful GPUs or TPUs, which may not be readily available to all users.\n",
    "\n",
    "7. **Version Compatibility**: TensorFlow has had multiple major versions (e.g., TensorFlow 1.x and TensorFlow 2.x), and code written for one version may not be compatible with another. Users need to manage version compatibility when working with TensorFlow.\n",
    "\n",
    "8. **Limited Support for Dynamic Computation Graphs**: While TensorFlow has improved support for dynamic computation graphs in TensorFlow 2.x, it may not be as flexible in this regard as some other frameworks like PyTorch, which natively support dynamic computation graphs.\n",
    "\n",
    "9. **Overhead for Small-Scale Projects**: For small-scale machine learning projects, TensorFlow's flexibility and extensive features may be overkill, leading to unnecessary complexity.\n",
    "\n",
    "10. **Documentation Challenges**: The extensive documentation for TensorFlow can sometimes be overwhelming or difficult to navigate for new users. Finding specific information or examples may require extra effort.\n",
    "\n",
    "11. **Debugging Distributed Training**: Debugging issues in distributed training setups, which TensorFlow supports, can be more complex compared to single-machine training.\n",
    "\n",
    "12. **Community Support Variability**: While TensorFlow has a large and active user community, the quality and availability of community support and resources may vary depending on the specific use case or problem.\n",
    "\n",
    "Despite these limitations, TensorFlow remains a powerful and widely-used framework for machine learning and deep learning. Many of these limitations can be addressed with experience, careful design, and the use of high-level APIs like Keras, which provide a more user-friendly interface."
   ]
  },
  {
   "cell_type": "markdown",
   "id": "e33abcbb",
   "metadata": {},
   "source": [
    "## 15. What do you know about supervised and unsupervised machine learning?"
   ]
  },
  {
   "cell_type": "markdown",
   "id": "3cae44ef",
   "metadata": {},
   "source": [
    "Supervised and unsupervised machine learning are two fundamental categories of machine learning algorithms, each serving different purposes and solving different types of problems.\n",
    "\n",
    "**Supervised Machine Learning:**\n",
    "\n",
    "1. **Definition**: Supervised learning is a type of machine learning where the algorithm learns from labeled training data, which consists of input-output pairs. It learns to map input data to the correct output by finding patterns and relationships in the training data.\n",
    "\n",
    "2. **Objective**: The primary goal of supervised learning is to make predictions or classify data based on the learned patterns. It's used for tasks such as regression (predicting continuous values) and classification (assigning data to predefined classes or categories).\n",
    "\n",
    "3. **Examples**: Supervised learning is commonly used in applications like spam email detection (binary classification), image recognition (multi-class classification), and house price prediction (regression).\n",
    "\n",
    "4. **Training Process**: During training, the algorithm is provided with input data and their corresponding labels. It learns to create a mapping function (hypothesis) that minimizes the error between predicted and actual outputs.\n",
    "\n",
    "5. **Evaluation**: The model's performance is typically evaluated using metrics like accuracy, precision, recall, F1-score (for classification tasks), or mean squared error, and R-squared (for regression tasks).\n",
    "\n",
    "6. **Common Algorithms**: Common supervised learning algorithms include linear regression, logistic regression, decision trees, random forests, support vector machines, and various neural network architectures.\n",
    "\n",
    "**Unsupervised Machine Learning:**\n",
    "\n",
    "1. **Definition**: Unsupervised learning is a type of machine learning where the algorithm is trained on unlabeled data. It aims to discover patterns, structures, and relationships within the data without explicit guidance in the form of labeled outputs.\n",
    "\n",
    "2. **Objective**: The primary goal of unsupervised learning is to extract meaningful insights, identify hidden patterns, or reduce the dimensionality of data. It's used for tasks like clustering (grouping similar data points) and dimensionality reduction.\n",
    "\n",
    "3. **Examples**: Unsupervised learning is commonly used in applications such as customer segmentation (clustering), anomaly detection, and principal component analysis (dimensionality reduction).\n",
    "\n",
    "4. **Training Process**: In unsupervised learning, the algorithm explores the data to find inherent structures or groupings. Common techniques include clustering algorithms like k-means, hierarchical clustering, and dimensionality reduction techniques like principal component analysis (PCA).\n",
    "\n",
    "5. **Evaluation**: Evaluation in unsupervised learning is often more challenging than in supervised learning, as there are no explicit labels to compare predictions to. Evaluation metrics may vary depending on the specific task, such as silhouette score for clustering or explained variance for dimensionality reduction.\n",
    "\n",
    "6. **Common Algorithms**: Common unsupervised learning algorithms include k-means clustering, hierarchical clustering, PCA, t-SNE (t-distributed stochastic neighbor embedding), and autoencoders.\n",
    "\n",
    "In summary, supervised learning deals with labeled data and aims to make predictions or classify data based on those labels, while unsupervised learning deals with unlabeled data and focuses on discovering patterns, structures, or relationships within the data. Both types of machine learning have their own set of algorithms and applications, and they are often used in combination to tackle complex problems."
   ]
  },
  {
   "cell_type": "code",
   "execution_count": null,
   "id": "e564a2c6",
   "metadata": {},
   "outputs": [],
   "source": []
  }
 ],
 "metadata": {
  "kernelspec": {
   "display_name": "Python 3 (ipykernel)",
   "language": "python",
   "name": "python3"
  },
  "language_info": {
   "codemirror_mode": {
    "name": "ipython",
    "version": 3
   },
   "file_extension": ".py",
   "mimetype": "text/x-python",
   "name": "python",
   "nbconvert_exporter": "python",
   "pygments_lexer": "ipython3",
   "version": "3.9.12"
  }
 },
 "nbformat": 4,
 "nbformat_minor": 5
}
