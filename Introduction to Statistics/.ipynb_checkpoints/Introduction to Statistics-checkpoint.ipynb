{
 "cells": [
  {
   "cell_type": "markdown",
   "id": "4d22c04a",
   "metadata": {},
   "source": [
    "Module 1. Introduction to Statistics (April 2023)\n",
    "Question 1. There is an assumption that there is no significant difference between boys and\n",
    "girls with respect to intelligence. Tests are conducted on two groups and the following are\n",
    "the observations <br>\n",
    "Mean Standard Deviation Size <br>\n",
    "Girls 89 4 50 <Br>\n",
    "Boys 82 9 120 <Br>\n",
    "Validate the claim with 5% LoS (Level of Significance). "
   ]
  },
  {
   "cell_type": "code",
   "execution_count": 4,
   "id": "943c6ac1",
   "metadata": {},
   "outputs": [
    {
     "name": "stdout",
     "output_type": "stream",
     "text": [
      "Reject the null hypothesis. There is a significant difference between boys and girls with respect to intelligence.\n"
     ]
    }
   ],
   "source": [
    "import scipy.stats as stats\n",
    "\n",
    "# Data for Girls\n",
    "mean_girls = 89\n",
    "std_dev_girls = 4\n",
    "size_girls = 50\n",
    "\n",
    "# Data for Boys\n",
    "mean_boys = 82\n",
    "std_dev_boys = 9\n",
    "size_boys = 120\n",
    "\n",
    "# Calculate the t-statistic and p-value\n",
    "t_statistic, p_value = stats.ttest_ind_from_stats(\n",
    "    mean1=mean_girls, std1=std_dev_girls, nobs1=size_girls,\n",
    "    mean2=mean_boys, std2=std_dev_boys, nobs2=size_boys\n",
    ")\n",
    "\n",
    "# Define the significance level (alpha)\n",
    "alpha = 0.05\n",
    "\n",
    "# Compare p-value with alpha\n",
    "if p_value < alpha:\n",
    "    print(\"Reject the null hypothesis. There is a significant difference between boys and girls with respect to intelligence.\")\n",
    "else:\n",
    "    print(\"Fail to reject the null hypothesis. There is no significant difference between boys and girls with respect to intelligence.\")\n"
   ]
  },
  {
   "cell_type": "markdown",
   "id": "96666dfe",
   "metadata": {},
   "source": [
    "## Question 2. Analyze the below data and tell whether you can conclude that smoking causes cancer or not? "
   ]
  },
  {
   "cell_type": "markdown",
   "id": "486daf11",
   "metadata": {},
   "source": [
    "----------------Diagnosed as Cancer------Without Cancer--------Total <br>\n",
    "----Smokers-------------220-----------------230-----------------550 <br>\n",
    "Non-Smokers-------------350-----------------640-----------------990 <br>\n",
    "------Total---------------570-----------------870-----------------1540 <br>\n"
   ]
  },
  {
   "cell_type": "code",
   "execution_count": 3,
   "id": "a75bec45",
   "metadata": {},
   "outputs": [
    {
     "name": "stdout",
     "output_type": "stream",
     "text": [
      "Chi-Squared Statistic: 23.13777924434912\n",
      "P-value: 1.507985464991841e-06\n",
      "Conclusion: Reject the null hypothesis. There is an association between smoking and cancer.\n"
     ]
    }
   ],
   "source": [
    "import scipy.stats as stats\n",
    "\n",
    "# Create the observed contingency table\n",
    "observed = [[220, 230], [350, 640]]\n",
    "\n",
    "# Perform the chi-squared test\n",
    "chi2, p, dof, expected = stats.chi2_contingency(observed)\n",
    "\n",
    "# Define the significance level (alpha)\n",
    "alpha = 0.05\n",
    "\n",
    "# Print the results\n",
    "print(f\"Chi-Squared Statistic: {chi2}\")\n",
    "print(f\"P-value: {p}\")\n",
    "\n",
    "if p < alpha:\n",
    "    print(\"Conclusion: Reject the null hypothesis. There is an association between smoking and cancer.\")\n",
    "else:\n",
    "    print(\"Conclusion: Fail to reject the null hypothesis. There is no significant association between smoking and cancer.\")\n"
   ]
  },
  {
   "cell_type": "code",
   "execution_count": null,
   "id": "124926f2",
   "metadata": {},
   "outputs": [],
   "source": []
  }
 ],
 "metadata": {
  "kernelspec": {
   "display_name": "Python 3 (ipykernel)",
   "language": "python",
   "name": "python3"
  },
  "language_info": {
   "codemirror_mode": {
    "name": "ipython",
    "version": 3
   },
   "file_extension": ".py",
   "mimetype": "text/x-python",
   "name": "python",
   "nbconvert_exporter": "python",
   "pygments_lexer": "ipython3",
   "version": "3.9.12"
  }
 },
 "nbformat": 4,
 "nbformat_minor": 5
}
